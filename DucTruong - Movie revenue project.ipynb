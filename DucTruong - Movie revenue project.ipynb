{
 "cells": [
  {
   "cell_type": "markdown",
   "metadata": {},
   "source": [
    "Duc Truong\n",
    "<br>2018/10/08\n",
    "\n",
    "# Can Movie Critics and Metascore Really Predict Box Office Hits?\n",
    "<br>\n",
    "\n",
    "## Objective\n",
    "In this project, I would like to analyze the relationships between movie critics picks, metascore (viewers' rating) and box office hits (movie revenue) (i.e. is there a difference in movie revenues based on critics' ratings? Between critics pick and metascore, which one predicts box office performance better? etc.) Besides that, I also wanted to see if there is any other field that impacts movie's box office.\n",
    "<br>\n",
    "## Data Collection\n",
    "For the data using in the study, I collected movie reviews and critics data in the full 2 years of 2003 and 2004 (2003-01-01 to 2004-12-31) from NYT API and OMDb API. Data from TMDb was also collected in the later part of the study, since it had useful features that NYT and OMDb API did not have. <br>\n",
    "<BR>\n",
    "## Original Data\n",
    "(A .csv copy of merged NYT and Omdb data is available) <br>\n",
    "The first 3 rows of the NYT critics review dataframe was as shown below:"
   ]
  },
  {
   "cell_type": "code",
   "execution_count": 226,
   "metadata": {
    "collapsed": true
   },
   "outputs": [],
   "source": [
    "import json\n",
    "import requests\n",
    "import pandas as pd\n",
    "import numpy as np\n",
    "from pandas.io.json import json_normalize\n",
    "from IPython.display import display\n",
    "import time"
   ]
  },
  {
   "cell_type": "code",
   "execution_count": 227,
   "metadata": {
    "collapsed": false,
    "scrolled": false
   },
   "outputs": [
    {
     "data": {
      "text/html": [
       "<div>\n",
       "<table border=\"1\" class=\"dataframe\">\n",
       "  <thead>\n",
       "    <tr style=\"text-align: right;\">\n",
       "      <th></th>\n",
       "      <th>byline</th>\n",
       "      <th>critics_pick</th>\n",
       "      <th>date_updated</th>\n",
       "      <th>display_title</th>\n",
       "      <th>headline</th>\n",
       "      <th>link.suggested_link_text</th>\n",
       "      <th>link.type</th>\n",
       "      <th>link.url</th>\n",
       "      <th>mpaa_rating</th>\n",
       "      <th>multimedia</th>\n",
       "      <th>opening_date</th>\n",
       "      <th>publication_date</th>\n",
       "      <th>summary_short</th>\n",
       "    </tr>\n",
       "  </thead>\n",
       "  <tbody>\n",
       "    <tr>\n",
       "      <th>0</th>\n",
       "      <td>Manohla Dargis</td>\n",
       "      <td>0</td>\n",
       "      <td>2017-11-02 04:18:04</td>\n",
       "      <td>Suspect Zero</td>\n",
       "      <td>A Serial Killer Who Stalks Other Serial Killer...</td>\n",
       "      <td>Read the New York Times Review of Suspect Zero</td>\n",
       "      <td>article</td>\n",
       "      <td>http://www.nytimes.com/2004/08/27/movies/film-...</td>\n",
       "      <td>R</td>\n",
       "      <td>None</td>\n",
       "      <td>2004-08-27</td>\n",
       "      <td>2004-08-27</td>\n",
       "      <td>Finally, a serial killer movie so preposterous...</td>\n",
       "    </tr>\n",
       "    <tr>\n",
       "      <th>1</th>\n",
       "      <td>Manohla Dargis</td>\n",
       "      <td>0</td>\n",
       "      <td>2017-11-02 04:18:04</td>\n",
       "      <td>Hero</td>\n",
       "      <td>Hidden Truths in the Court of a King Who Would...</td>\n",
       "      <td>Read the New York Times Review of Hero</td>\n",
       "      <td>article</td>\n",
       "      <td>http://www.nytimes.com/2004/08/27/movies/film-...</td>\n",
       "      <td>PG-13</td>\n",
       "      <td>None</td>\n",
       "      <td>2004-08-27</td>\n",
       "      <td>2004-08-27</td>\n",
       "      <td>In Zhang Yimou's &amp;quot;Hero,&amp;quot; an ambitiou...</td>\n",
       "    </tr>\n",
       "    <tr>\n",
       "      <th>2</th>\n",
       "      <td>Manohla Dargis</td>\n",
       "      <td>0</td>\n",
       "      <td>2017-11-02 04:18:04</td>\n",
       "      <td>Exorcist: The Beginning</td>\n",
       "      <td>What the Devil Is Going On Here?</td>\n",
       "      <td>Read the New York Times Review of Exorcist: Th...</td>\n",
       "      <td>article</td>\n",
       "      <td>http://www.nytimes.com/2004/08/21/movies/film-...</td>\n",
       "      <td>R</td>\n",
       "      <td>None</td>\n",
       "      <td>2004-08-20</td>\n",
       "      <td>2004-08-21</td>\n",
       "      <td>Spinning heads, cascades of pea soup and your ...</td>\n",
       "    </tr>\n",
       "  </tbody>\n",
       "</table>\n",
       "</div>"
      ],
      "text/plain": [
       "           byline  critics_pick         date_updated            display_title  \\\n",
       "0  Manohla Dargis             0  2017-11-02 04:18:04             Suspect Zero   \n",
       "1  Manohla Dargis             0  2017-11-02 04:18:04                     Hero   \n",
       "2  Manohla Dargis             0  2017-11-02 04:18:04  Exorcist: The Beginning   \n",
       "\n",
       "                                            headline  \\\n",
       "0  A Serial Killer Who Stalks Other Serial Killer...   \n",
       "1  Hidden Truths in the Court of a King Who Would...   \n",
       "2                   What the Devil Is Going On Here?   \n",
       "\n",
       "                            link.suggested_link_text link.type  \\\n",
       "0     Read the New York Times Review of Suspect Zero   article   \n",
       "1             Read the New York Times Review of Hero   article   \n",
       "2  Read the New York Times Review of Exorcist: Th...   article   \n",
       "\n",
       "                                            link.url mpaa_rating multimedia  \\\n",
       "0  http://www.nytimes.com/2004/08/27/movies/film-...           R       None   \n",
       "1  http://www.nytimes.com/2004/08/27/movies/film-...       PG-13       None   \n",
       "2  http://www.nytimes.com/2004/08/21/movies/film-...           R       None   \n",
       "\n",
       "  opening_date publication_date  \\\n",
       "0   2004-08-27       2004-08-27   \n",
       "1   2004-08-27       2004-08-27   \n",
       "2   2004-08-20       2004-08-21   \n",
       "\n",
       "                                       summary_short  \n",
       "0  Finally, a serial killer movie so preposterous...  \n",
       "1  In Zhang Yimou's &quot;Hero,&quot; an ambitiou...  \n",
       "2  Spinning heads, cascades of pea soup and your ...  "
      ]
     },
     "metadata": {},
     "output_type": "display_data"
    }
   ],
   "source": [
    "# collecting data from IMDb API\n",
    "\n",
    "offset = 0\n",
    "url = \"http://api.nytimes.com/svc/movies/v2/reviews/search.json?critics-pick=N&opening-date=2003-01-01;2004-12-31&offset=\" + str(offset) +\"&order=opening-date&api-key=e61b5b57d7ed43c5b869b5ff6686c8e7\"\n",
    "df = pd.read_json(url, orient = 'records')\n",
    "nytdata = json_normalize(df['results'])\n",
    "offset += 20\n",
    "while not(df.empty):\n",
    "    url = \"http://api.nytimes.com/svc/movies/v2/reviews/search.json?critics-pick=N&opening-date=2003-01-01;2004-12-31&offset=\" + str(offset) +\"&order=opening-date&api-key=e61b5b57d7ed43c5b869b5ff6686c8e7\"\n",
    "    df = pd.read_json(url, orient = 'records')\n",
    "    if df.empty:\n",
    "        break\n",
    "    nytdata = pd.concat([nytdata, json_normalize(df['results'])], ignore_index=True)\n",
    "    offset += 20\n",
    "    time.sleep(0.05) # to avoid the HTTPError: HTTP Error 429:\n",
    "display(nytdata.head(3))\n"
   ]
  },
  {
   "cell_type": "markdown",
   "metadata": {},
   "source": [
    "It appeared that there were some movies from the NYT API having non-English title (such as Salomé, etc.). Searching for those movies in OMDb API and other sources will return errors. Therefore, I decided to drop the movie entries whose title are not fully English."
   ]
  },
  {
   "cell_type": "code",
   "execution_count": 228,
   "metadata": {
    "collapsed": false
   },
   "outputs": [],
   "source": [
    "# Cleaning the data\n",
    "\n",
    "# Drop the entries in which title is not in English\n",
    "def isEnglish(s):\n",
    "    try:\n",
    "        s.encode(encoding='utf-8').decode('ascii')\n",
    "    except UnicodeDecodeError:\n",
    "        return False\n",
    "    else:\n",
    "        return True\n",
    "\n",
    "titleList = nytdata['display_title']\n",
    "engCheck = []\n",
    "for i in range(titleList.size):\n",
    "    engCheck.append(isEnglish(titleList[i]))\n",
    "dropIndex = [a for a in range(len(engCheck)) if engCheck[i] == False]\n",
    "nytdata_cleaned = nytdata.drop(dropIndex)"
   ]
  },
  {
   "cell_type": "code",
   "execution_count": 229,
   "metadata": {
    "collapsed": false
   },
   "outputs": [],
   "source": [
    "apikey_omdb = \"7e1ab203\"\n",
    "title = 't=' + nytdata_cleaned.display_title.str.replace(' ', '+')\n",
    "req = 'http://www.omdbapi.com/?apikey='+ apikey_omdb + '&'+ title[0] + \"&plot=full\"\n",
    "naBoxOfficeIndex = [] # to keep track of the movie without valid Box Office value\n",
    "omdbdata = pd.DataFrame(columns=pd.read_json(req).columns.values) # DataFrame storing movies with valid Box Office\n",
    "for i in range(title.size):\n",
    "    req = 'http://www.omdbapi.com/?apikey='+ apikey_omdb + '&'+ title[i] + \"&plot=full\"\n",
    "    if (requests.get(req).json().get('Response') == \"False\"):\n",
    "        naBoxOfficeIndex.append(i)\n",
    "        continue    \n",
    "    a = pd.read_json(req)\n",
    "    if (not (a.empty)) and (a.shape[1] == 25):\n",
    "        if (a.loc[0].BoxOffice==\"N/A\" or a.loc[0].BoxOffice[0]!=\"$\" ):\n",
    "            naBoxOfficeIndex.append(i)\n",
    "        else:\n",
    "            omdbdata = omdbdata.append(a.loc[0], ignore_index=True)\n",
    "    else:\n",
    "        naBoxOfficeIndex.append(i)\n"
   ]
  },
  {
   "cell_type": "markdown",
   "metadata": {},
   "source": [
    "Going through each movie title in the cleaned NYT dataframe, I got the BoxOffice, metascore etc. details from the OMDb API into another dataframe as shown below. I then filtered out the movies with invalid BoxOffice values (N/A or weird currency values), and then synchronized the data between OMDb and NYT dataframes, so that they both have exactly the same movies in the same order. <br>\n",
    "After finishing this step, I have a total of 258 movies, which would be used for the analyses afterwards."
   ]
  },
  {
   "cell_type": "code",
   "execution_count": 230,
   "metadata": {
    "collapsed": false,
    "scrolled": false
   },
   "outputs": [
    {
     "data": {
      "text/html": [
       "<div>\n",
       "<table border=\"1\" class=\"dataframe\">\n",
       "  <thead>\n",
       "    <tr style=\"text-align: right;\">\n",
       "      <th></th>\n",
       "      <th>Actors</th>\n",
       "      <th>Awards</th>\n",
       "      <th>BoxOffice</th>\n",
       "      <th>Country</th>\n",
       "      <th>DVD</th>\n",
       "      <th>Director</th>\n",
       "      <th>Genre</th>\n",
       "      <th>Language</th>\n",
       "      <th>Metascore</th>\n",
       "      <th>Plot</th>\n",
       "      <th>Poster</th>\n",
       "      <th>Production</th>\n",
       "      <th>Rated</th>\n",
       "      <th>Ratings</th>\n",
       "      <th>Released</th>\n",
       "      <th>Response</th>\n",
       "      <th>Runtime</th>\n",
       "      <th>Title</th>\n",
       "      <th>Type</th>\n",
       "      <th>Website</th>\n",
       "      <th>Writer</th>\n",
       "      <th>Year</th>\n",
       "      <th>imdbID</th>\n",
       "      <th>imdbRating</th>\n",
       "      <th>imdbVotes</th>\n",
       "    </tr>\n",
       "  </thead>\n",
       "  <tbody>\n",
       "    <tr>\n",
       "      <th>0</th>\n",
       "      <td>Aaron Eckhart, Ben Kingsley, Carrie-Anne Moss,...</td>\n",
       "      <td>N/A</td>\n",
       "      <td>$8,570,393</td>\n",
       "      <td>UK, Germany, USA</td>\n",
       "      <td>12 Apr 2005</td>\n",
       "      <td>E. Elias Merhige</td>\n",
       "      <td>Crime, Horror, Mystery</td>\n",
       "      <td>English</td>\n",
       "      <td>37.0</td>\n",
       "      <td>When Dallas FBI Agent Thomas Mackelway violate...</td>\n",
       "      <td>https://m.media-amazon.com/images/M/MV5BZTA1Zj...</td>\n",
       "      <td>Paramount Pictures</td>\n",
       "      <td>R</td>\n",
       "      <td>{'Source': 'Internet Movie Database', 'Value':...</td>\n",
       "      <td>27 Aug 2004</td>\n",
       "      <td>True</td>\n",
       "      <td>99 min</td>\n",
       "      <td>Suspect Zero</td>\n",
       "      <td>movie</td>\n",
       "      <td>http://www.suspectzero.com</td>\n",
       "      <td>Zak Penn (story), Zak Penn (screenplay), Billy...</td>\n",
       "      <td>2004.0</td>\n",
       "      <td>tt0324127</td>\n",
       "      <td>5.9</td>\n",
       "      <td>17,649</td>\n",
       "    </tr>\n",
       "    <tr>\n",
       "      <th>1</th>\n",
       "      <td>Stellan Skarsgård, Izabella Scorupco, James D'...</td>\n",
       "      <td>6 nominations.</td>\n",
       "      <td>$41,784,746</td>\n",
       "      <td>USA</td>\n",
       "      <td>25 Oct 2005</td>\n",
       "      <td>Renny Harlin</td>\n",
       "      <td>Horror, Mystery, Thriller</td>\n",
       "      <td>English</td>\n",
       "      <td>30.0</td>\n",
       "      <td>Archeologist Lankester Merrin is asked to go t...</td>\n",
       "      <td>https://m.media-amazon.com/images/M/MV5BMjI0Nz...</td>\n",
       "      <td>Warner Bros. Pictures</td>\n",
       "      <td>R</td>\n",
       "      <td>{'Source': 'Internet Movie Database', 'Value':...</td>\n",
       "      <td>20 Aug 2004</td>\n",
       "      <td>True</td>\n",
       "      <td>114 min</td>\n",
       "      <td>Exorcist: The Beginning</td>\n",
       "      <td>movie</td>\n",
       "      <td>http://exorcistthebeginning.warnerbros.com/</td>\n",
       "      <td>William Peter Blatty (movie The Exorcist), Wil...</td>\n",
       "      <td>2004.0</td>\n",
       "      <td>tt0204313</td>\n",
       "      <td>5.1</td>\n",
       "      <td>30,672</td>\n",
       "    </tr>\n",
       "    <tr>\n",
       "      <th>2</th>\n",
       "      <td>Matthew Price, Andrew Hampton, Jarred Rumbold,...</td>\n",
       "      <td>N/A</td>\n",
       "      <td>$58,156,435</td>\n",
       "      <td>USA, New Zealand</td>\n",
       "      <td>11 Jan 2005</td>\n",
       "      <td>Steven Brill</td>\n",
       "      <td>Adventure, Comedy, Mystery</td>\n",
       "      <td>English</td>\n",
       "      <td>29.0</td>\n",
       "      <td>Three friends, whose lives have been drifting ...</td>\n",
       "      <td>https://m.media-amazon.com/images/M/MV5BMjA0MT...</td>\n",
       "      <td>Paramount Pictures</td>\n",
       "      <td>PG-13</td>\n",
       "      <td>{'Source': 'Internet Movie Database', 'Value':...</td>\n",
       "      <td>20 Aug 2004</td>\n",
       "      <td>True</td>\n",
       "      <td>95 min</td>\n",
       "      <td>Without a Paddle</td>\n",
       "      <td>movie</td>\n",
       "      <td>http://www.withoutapaddlemovie.com</td>\n",
       "      <td>Fred Wolf (story), Harris Goldberg (story), To...</td>\n",
       "      <td>2004.0</td>\n",
       "      <td>tt0364751</td>\n",
       "      <td>5.9</td>\n",
       "      <td>40,524</td>\n",
       "    </tr>\n",
       "  </tbody>\n",
       "</table>\n",
       "</div>"
      ],
      "text/plain": [
       "                                              Actors          Awards  \\\n",
       "0  Aaron Eckhart, Ben Kingsley, Carrie-Anne Moss,...             N/A   \n",
       "1  Stellan Skarsgård, Izabella Scorupco, James D'...  6 nominations.   \n",
       "2  Matthew Price, Andrew Hampton, Jarred Rumbold,...             N/A   \n",
       "\n",
       "     BoxOffice           Country          DVD          Director  \\\n",
       "0   $8,570,393  UK, Germany, USA  12 Apr 2005  E. Elias Merhige   \n",
       "1  $41,784,746               USA  25 Oct 2005      Renny Harlin   \n",
       "2  $58,156,435  USA, New Zealand  11 Jan 2005      Steven Brill   \n",
       "\n",
       "                        Genre Language  Metascore  \\\n",
       "0      Crime, Horror, Mystery  English       37.0   \n",
       "1   Horror, Mystery, Thriller  English       30.0   \n",
       "2  Adventure, Comedy, Mystery  English       29.0   \n",
       "\n",
       "                                                Plot  \\\n",
       "0  When Dallas FBI Agent Thomas Mackelway violate...   \n",
       "1  Archeologist Lankester Merrin is asked to go t...   \n",
       "2  Three friends, whose lives have been drifting ...   \n",
       "\n",
       "                                              Poster             Production  \\\n",
       "0  https://m.media-amazon.com/images/M/MV5BZTA1Zj...     Paramount Pictures   \n",
       "1  https://m.media-amazon.com/images/M/MV5BMjI0Nz...  Warner Bros. Pictures   \n",
       "2  https://m.media-amazon.com/images/M/MV5BMjA0MT...     Paramount Pictures   \n",
       "\n",
       "   Rated                                            Ratings     Released  \\\n",
       "0      R  {'Source': 'Internet Movie Database', 'Value':...  27 Aug 2004   \n",
       "1      R  {'Source': 'Internet Movie Database', 'Value':...  20 Aug 2004   \n",
       "2  PG-13  {'Source': 'Internet Movie Database', 'Value':...  20 Aug 2004   \n",
       "\n",
       "  Response  Runtime                    Title   Type  \\\n",
       "0     True   99 min             Suspect Zero  movie   \n",
       "1     True  114 min  Exorcist: The Beginning  movie   \n",
       "2     True   95 min         Without a Paddle  movie   \n",
       "\n",
       "                                       Website  \\\n",
       "0                   http://www.suspectzero.com   \n",
       "1  http://exorcistthebeginning.warnerbros.com/   \n",
       "2           http://www.withoutapaddlemovie.com   \n",
       "\n",
       "                                              Writer    Year     imdbID  \\\n",
       "0  Zak Penn (story), Zak Penn (screenplay), Billy...  2004.0  tt0324127   \n",
       "1  William Peter Blatty (movie The Exorcist), Wil...  2004.0  tt0204313   \n",
       "2  Fred Wolf (story), Harris Goldberg (story), To...  2004.0  tt0364751   \n",
       "\n",
       "   imdbRating imdbVotes  \n",
       "0         5.9    17,649  \n",
       "1         5.1    30,672  \n",
       "2         5.9    40,524  "
      ]
     },
     "metadata": {},
     "output_type": "display_data"
    }
   ],
   "source": [
    "# Omdb data with valid values extracted from nytdata_cleaned\n",
    "pd.set_option(\"display.max_columns\", 60)\n",
    "display(omdbdata.head(3))"
   ]
  },
  {
   "cell_type": "code",
   "execution_count": 231,
   "metadata": {
    "collapsed": false
   },
   "outputs": [],
   "source": [
    "nytdata_cleaned = nytdata_cleaned.drop(naBoxOfficeIndex)\n",
    "nytdata_cleaned = nytdata_cleaned.reset_index(drop=True)"
   ]
  },
  {
   "cell_type": "markdown",
   "metadata": {},
   "source": [
    "# Data Analysis\n",
    "\n",
    "## 1) How well do New York Times (NYT) movie critics pick box office hits?\n",
    "To answer the first question, I first visualized the distributions of the box office hits when critics pick is \"yes\" (CP) or \"no\" (Not CP). A t-test then was used to see if there is a significant difference between the means of the box office when critics pick is \"yes\" or \"no\"."
   ]
  },
  {
   "cell_type": "code",
   "execution_count": 232,
   "metadata": {
    "collapsed": false
   },
   "outputs": [],
   "source": [
    "def clean(x):\n",
    "    x = x.replace(\"$\", \"\").replace(\",\", \"\").replace(\" \", \"\")\n",
    "    return float(x)\n",
    "\n",
    "omdb_cleaned = omdbdata.copy()\n",
    "omdb_cleaned[\"BoxOffice\"] = omdb_cleaned[\"BoxOffice\"].apply(clean)\n",
    "# a copy of merged_data is available.\n",
    "# merged_data = pd.concat([nytdata_cleaned, omdb_cleaned], axis=1)\n",
    "merged_data = pd.read_csv(\"https://raw.githubusercontent.com/hdtruong12/movies-project/master/cleaned_data.csv\")"
   ]
  },
  {
   "cell_type": "markdown",
   "metadata": {},
   "source": [
    "I performed a Box plot to generally show the distribution of the movies Box Office for both critics picks and non-picks. Noted that in the graph, the \"Not CP\" label represents critics pick = False and the opposite for \"CP\" label."
   ]
  },
  {
   "cell_type": "code",
   "execution_count": 233,
   "metadata": {
    "collapsed": false
   },
   "outputs": [
    {
     "data": {
      "image/png": "[encoded data removed]",
      "text/plain": [
       "<matplotlib.figure.Figure at 0x1bd1290aef0>"
      ]
     },
     "metadata": {},
     "output_type": "display_data"
    }
   ],
   "source": [
    "import seaborn as sns\n",
    "import matplotlib.pyplot as plt\n",
    "fig, ax = plt.subplots(figsize=(13,8))\n",
    "fig.suptitle('Distribution of BoxOffice of Critics Pick and Non-pick', fontsize=20)\n",
    "sns.set(style=\"whitegrid\")\n",
    "fig1 = sns.boxplot(x = merged_data[\"critics_pick\"], y = merged_data[\"BoxOffice\"])\n",
    "plt.xlabel('Critics Pick', fontsize=18)\n",
    "plt.ylabel('Box Office Value (USD)', fontsize=18)\n",
    "ax.set_xticklabels(['Not CP', 'CP'])\n",
    "plt.show()"
   ]
  },
  {
   "cell_type": "markdown",
   "metadata": {},
   "source": [
    "The distribution of the box office value was not similar to what I expected. There was not a clear difference between the picked movies and non picked movies. The highest and the median box office in the non picks were even higher than the ones from the picks (`$436,471,036` comparing to `$380,529,370`, and `$30,213,026` comparing to `$16,162,920`).\n",
    "<BR>\n",
    "I decided to perform a t-test to further confirm that if there is a significant difference in movie revenue between the box office value of the picks and non picks.\n",
    "<br>\n",
    "With the null hypothesis as the mean box office between picks and non picks are similar, the t-test return the result as shown below:"
   ]
  },
  {
   "cell_type": "code",
   "execution_count": 234,
   "metadata": {
    "collapsed": false
   },
   "outputs": [],
   "source": [
    "picks = merged_data.loc[merged_data['critics_pick'] == 1]\n",
    "nonpicks = merged_data.loc[merged_data['critics_pick'] == 0]\n",
    "picks = picks.reset_index(drop=True)\n",
    "nonpicks = nonpicks.reset_index(drop=True)"
   ]
  },
  {
   "cell_type": "code",
   "execution_count": 235,
   "metadata": {
    "collapsed": false
   },
   "outputs": [
    {
     "data": {
      "text/plain": [
       "Ttest_indResult(statistic=0.64850956988380959, pvalue=0.51723670647248032)"
      ]
     },
     "execution_count": 235,
     "metadata": {},
     "output_type": "execute_result"
    }
   ],
   "source": [
    "from scipy.stats import ttest_ind\n",
    "ttest_ind(picks[\"BoxOffice\"],nonpicks[\"BoxOffice\"])"
   ]
  },
  {
   "cell_type": "markdown",
   "metadata": {},
   "source": [
    "### Conclusion\n",
    "Since the return pvalue was much higer than 0.05 (p = 0.517), we cannot reject the null hypothesis. Thus, there was not a significant difference between the box office means of critics picks and non picks.\n",
    "<br>\n",
    "By performing Box Plot and t-test, I realized that critic picks had no effect on Box Office. In fact, the highest and the median box office of the picks was even lower than ones of the nonpicks. This might be because that the critics did not evaluate and pick the movies based on their revenue potentials."
   ]
  },
  {
   "cell_type": "markdown",
   "metadata": {},
   "source": [
    "## 2) Is there a relationship between NYT movie review sentiment and crtics picks?\n",
    "<br>\n",
    "To answer this question, using BeautifulSoup library, I extracted the review text details from the review urls achieved from cleaned nytdata pool . The reviews are split up into 2 lists: critcis pick review, and non pick reviews. <br>\n",
    "Then, by using TextBlob library, I calculated the sentiments polarity score for each reviews and store the scores into 2 different lists based on their critics pick category. Sentiment polarity is basically the emotions expressed in the review. The polarity has range from -1 to 1, in which the closer to 1 the polarity is, the more postive the review will be; and vice versa for -1. Then again, I performed a t-test between the polarities of picks and nonpicks. <br>\n",
    "(There was 1 movie in the nonpicks whose URL returned the \"page not found\" error. For that movie, I just ignored it in the sentiment analysis.)\n",
    "<br>\n",
    "Txt files of pick and non pick reviews are available."
   ]
  },
  {
   "cell_type": "code",
   "execution_count": 237,
   "metadata": {
    "collapsed": false,
    "scrolled": true
   },
   "outputs": [],
   "source": [
    "from bs4 import BeautifulSoup\n",
    "from bs4.element import Comment\n",
    "import urllib.request\n",
    "\n",
    "def text_from_html(body):\n",
    "    soup = BeautifulSoup(body, 'html.parser')\n",
    "    # print(soup.findAll(\"p\", \"story-body-text story-content\"))\n",
    "    # texts = soup.findAll(text=True)\n",
    "    texts = soup.findAll(\"p\", \"story-body-text story-content\")\n",
    "    review = \"\"\n",
    "    for t in texts:\n",
    "        review += (t.text.strip() +\"\\n\")\n",
    "    return review\n",
    "\n",
    "# this part is to achieve the reviews from the review urls, this would take about 10 minutes\n",
    "# a shorter option is in the cell below where we can just load the reviews straight from the text file uploaded in my repo\n",
    "p_reviews = []\n",
    "for url in picks['link.url']:\n",
    "    try: urllib.request.urlopen(url) # in case there is error openning the url\n",
    "    except urllib.error.URLError as e:\n",
    "        print(ind)\n",
    "        print(e.reason)\n",
    "        continue\n",
    "    html = urllib.request.urlopen(url).read()\n",
    "    a = text_from_html(html)\n",
    "    p_reviews.append(a)\n",
    "    \n",
    "np_reviews = []\n",
    "ind = 0\n",
    "a = text_from_html(html)\n",
    "for url in nonpicks['link.url']:\n",
    "    try: urllib.request.urlopen(url) # in case there is error openning the url\n",
    "    except urllib.error.URLError as e:\n",
    "        continue\n",
    "    html = urllib.request.urlopen(url).read()\n",
    "    a = text_from_html(html)\n",
    "    np_reviews.append(a)\n",
    "    ind+=1"
   ]
  },
  {
   "cell_type": "code",
   "execution_count": null,
   "metadata": {
    "collapsed": false,
    "scrolled": true
   },
   "outputs": [],
   "source": [
    "# this cell is to load the reviews straight from github text files\n",
    "\n",
    "'''import requests\n",
    "page = requests.get(\"https://raw.githubusercontent.com/hdtruong12/movies-project/master/pick_reviews.txt\")\n",
    "p_reviews = page.text.split('~')\n",
    "page = requests.get(\"https://raw.githubusercontent.com/hdtruong12/movies-project/master/nonpick_reviews.txt\")\n",
    "np_reviews  = page.text.split('~')'''"
   ]
  },
  {
   "cell_type": "code",
   "execution_count": 239,
   "metadata": {
    "collapsed": true
   },
   "outputs": [],
   "source": [
    "# you can skip this if you chose to load the files from github repo\n",
    "\n",
    "# cleaning reviews string by dump out the director and actor/actress details\n",
    "import re\n",
    "\n",
    "temp = 0\n",
    "for r in p_reviews:\n",
    "    a = re.search(r'\\b(is rated)\\b', r)\n",
    "    if a == None:\n",
    "        temp+=1\n",
    "        continue\n",
    "    p_reviews[temp] = r[0:a.start()]\n",
    "    temp+=1\n",
    "    \n",
    "temp = 0\n",
    "for r in np_reviews:\n",
    "    a = re.search(r'\\b(is rated)\\b', r)\n",
    "    if a == None:\n",
    "        temp+=1\n",
    "        continue\n",
    "    np_reviews[temp] = r[0:a.start()]\n",
    "    temp+=1"
   ]
  },
  {
   "cell_type": "code",
   "execution_count": 240,
   "metadata": {
    "collapsed": false,
    "scrolled": true
   },
   "outputs": [],
   "source": [
    "from textblob import TextBlob\n",
    "p_sen = []\n",
    "np_sen = []\n",
    "for r in p_reviews:\n",
    "    testimonial =TextBlob(r)\n",
    "    p_sen.append(testimonial.sentiment.polarity)\n",
    "for r in np_reviews:\n",
    "    testimonial =TextBlob(r)\n",
    "    np_sen.append(testimonial.sentiment.polarity)\n",
    "\n"
   ]
  },
  {
   "cell_type": "code",
   "execution_count": 241,
   "metadata": {
    "collapsed": false
   },
   "outputs": [
    {
     "data": {
      "image/png": "[encoded data removed]",
      "text/plain": [
       "<matplotlib.figure.Figure at 0x1bd12e3eeb8>"
      ]
     },
     "metadata": {},
     "output_type": "display_data"
    }
   ],
   "source": [
    "sendf = [np_sen, p_sen]\n",
    "fig, ax = plt.subplots(figsize=(13,8))\n",
    "fig.suptitle('Distribution of Sentiment Polarity of Critics Pick and Non-pick', fontsize=20)\n",
    "sns.set(style=\"whitegrid\")\n",
    "plt.xlabel('Critics Pick', fontsize=18)\n",
    "plt.ylabel('Sentiment Polarity', fontsize=18)\n",
    "fig1 = sns.boxplot(data = sendf)\n",
    "ax.set_xticklabels(['Not CP', 'CP'])\n",
    "plt.show()"
   ]
  },
  {
   "cell_type": "markdown",
   "metadata": {},
   "source": [
    "From the BoxPlot showing the distribution of sentiment polarity of Critics Picks and Nonpicks, I realized that there is a clear difference between the polarities of picks and nonpicks. For the nonpicks, the median polarity is lower than the median of the picks. Additionally, the polarities of the picks seemed to be more stable than the nonpicks (lower range, and mostly positive). I then performed a t-test between the polarities of picks and nonpicks to further confirm if there was a significant difference between them."
   ]
  },
  {
   "cell_type": "code",
   "execution_count": 242,
   "metadata": {
    "collapsed": false,
    "scrolled": true
   },
   "outputs": [
    {
     "name": "stdout",
     "output_type": "stream",
     "text": [
      "Mean polarity of critics picks: 0.0960959230444027\n",
      "Mean polarity of non picks: 0.07774706435980788\n"
     ]
    },
    {
     "data": {
      "text/plain": [
       "Ttest_indResult(statistic=2.0272325592341023, pvalue=0.043678895383097514)"
      ]
     },
     "execution_count": 242,
     "metadata": {},
     "output_type": "execute_result"
    }
   ],
   "source": [
    "print(\"Mean polarity of critics picks: \" + str(sum(p_sen)/len(p_sen)))\n",
    "print(\"Mean polarity of non picks: \"+ str(sum(np_sen)/len(np_sen)))\n",
    "ttest_ind(p_sen,np_sen)"
   ]
  },
  {
   "cell_type": "markdown",
   "metadata": {},
   "source": [
    "### Conclusion\n",
    "The test returned the pvalue=0.0437 which was less than 0.05. Therefore, we can reject the null hypothesis and conclude that there was a significant difference between the means of the sentiments polarities of the picks and non picks. In speficic, the sentiment polarities of the critic pick movies tended to be higher than ones that were non picks. <br>\n",
    "## 3) What characteristics of movies affect revenue?\n",
    "To answer this question, in my opinion, instead of using a movie's revenue, we should use a movie's profit to determine its success. Movie's profit can be found by subtracting its budget from its total revenue. In this project, to make things simpler, I will assume that a movie is a success if its profit (i.e. revenue - budget) is greater than 0, and a movie is a flop if its profit is less than or equal to 0. (The threshold of success or flop can be modified as wanted. For the following analysis, the threshold were set to be 0.). <br>\n",
    "Thus, instead of finding the characteristics of movies that affect revenue, I think it would make more sense if we determined the characteristics that have high impact on making movies profitable. With this in mind, the question became a binary classification problem. <br>\n",
    "The features (characteristics) of movies that I would like to examine in this experiment are: <br>\n",
    "Critics picks: {\"Not CP\": 0, \"CP\": 1} <br>\n",
    "Metascore: float <br>\n",
    "Sequel: {\"not in a sequel\": 0, \"in sequel\": 1} <br>\n",
    "Award: {\"didnt have any award/nominations\": 0, \"had award/nomination\": 1} <br>\n",
    "Budget: int (in USD) <br>\n",
    "Production: String (Since one company might have different names, I did some data cleaning for this feature to make sure the result was more accurate) <br>\n",
    "Popularity: float (value determined by TMDb based on the number of votes and views of a movie)\n",
    "\n",
    "Since neither the OMDDb nor NYT API gave me all the features that I wanted to examine (i.e. no budget information from both), I fetched more features via the TMDb API. Also, I noticed that not all box office values from OMDb API matched with revenue values on TMDb. Therefore, for consistency, I decided to use the revenues and budgets from TMDb in the following analysis. <br>\n",
    "\n",
    "### Data Preparation\n",
    "First of all, I wanted to clean up the Production column in the merged_data dataframe. Using merged_data['Production'].value_counts(), we can have a overview of the distribution of the production companies. Since one company might appear in different names, I would group those \"alias\" into one unique name. And for the companies that had only 1 or 2 movies in the group, I would group them up into \"Other\".\n",
    "<BR>\n",
    "Original production companies distribution:"
   ]
  },
  {
   "cell_type": "code",
   "execution_count": 243,
   "metadata": {
    "collapsed": false
   },
   "outputs": [
    {
     "data": {
      "text/plain": [
       "Paramount Pictures                  24\n",
       "Warner Bros. Pictures               21\n",
       "Universal Pictures                  17\n",
       "20th Century Fox                    16\n",
       "New Line Cinema                     15\n",
       "Buena Vista Pictures                13\n",
       "Fox Searchlight Pictures            13\n",
       "Sony Pictures                       10\n",
       "Sony Pictures Classics               9\n",
       "DreamWorks SKG                       8\n",
       "MGM                                  7\n",
       "Miramax Films                        7\n",
       "Columbia Pictures                    7\n",
       "Warner Bros.                         7\n",
       "Focus Features                       6\n",
       "Lions Gate Films                     5\n",
       "Sony Pictures Entertainment          5\n",
       "Walt Disney Pictures                 5\n",
       "IFC Films                            4\n",
       "MGM/UA                               3\n",
       "Artisan Entertainment                3\n",
       "Touchstone Pictures                  3\n",
       "USA Films                            2\n",
       "Dreamworks Distribution LLC          2\n",
       "20th Century Fox Distribution        2\n",
       "Net Effect Media                     2\n",
       "Paramount Classics                   2\n",
       "Fine Line Features                   2\n",
       "Lions Gate Films Inc.                2\n",
       "Samuel Goldwyn Films                 2\n",
       "Zeitgeist Films                      2\n",
       "Sony Pictures Releasing              2\n",
       "Newmarket Film Group                 2\n",
       "Buena Vista                          2\n",
       "New Yorker Films                     1\n",
       "Samuel Goldwyn Company               1\n",
       "Lion's Gate Films                    1\n",
       "Manhattan Pictures International     1\n",
       "Walt Disney Pictures [us]            1\n",
       "Metro-Goldwyn-Mayer                  1\n",
       "Screen Gems                          1\n",
       "United Artists                       1\n",
       "MGM Distribution Company             1\n",
       "Warner Independent Pictures          1\n",
       "Film Foundry Releasing               1\n",
       "Arenas Entertainment                 1\n",
       "Universal Pictures Distributio       1\n",
       "WB                                   1\n",
       "Castle Rock Entertainment            1\n",
       "Fireworks Pictures                   1\n",
       "Sony Screen Gems                     1\n",
       "MTV Films                            1\n",
       "Metro-Goldwyn-Mayer (MGM)            1\n",
       "Fox Searchlight                      1\n",
       "Warner Independent                   1\n",
       "Lions Gate Distribution              1\n",
       "Exhibition On Screen                 1\n",
       "Sony Picutres Classic                1\n",
       "Palm Pictures                        1\n",
       "Lions Gate Releasing                 1\n",
       "Name: Production, dtype: int64"
      ]
     },
     "execution_count": 243,
     "metadata": {},
     "output_type": "execute_result"
    }
   ],
   "source": [
    "merged_data['Production'].value_counts()"
   ]
  },
  {
   "cell_type": "markdown",
   "metadata": {},
   "source": [
    "Production values after cleaning:"
   ]
  },
  {
   "cell_type": "code",
   "execution_count": 244,
   "metadata": {
    "collapsed": false
   },
   "outputs": [
    {
     "data": {
      "text/plain": [
       "Warner Bros. Pictures       31\n",
       "Sony Pictures               29\n",
       "Paramount Pictures          26\n",
       "Other                       23\n",
       "Universal Pictures          18\n",
       "20th Century Fox            18\n",
       "New Line Cinema             15\n",
       "Buena Vista Pictures        15\n",
       "Fox Searchlight Pictures    14\n",
       "MGM                         13\n",
       "DreamWorks SKG              10\n",
       "Lions Gate Films            10\n",
       "Columbia Pictures            7\n",
       "Miramax Films                7\n",
       "Focus Features               6\n",
       "Walt Disney Pictures         6\n",
       "IFC Films                    4\n",
       "Artisan Entertainment        3\n",
       "Touchstone Pictures          3\n",
       "Name: Production, dtype: int64"
      ]
     },
     "execution_count": 244,
     "metadata": {},
     "output_type": "execute_result"
    }
   ],
   "source": [
    "merged_data['Production'] = merged_data['Production'].replace(['Warner Bros.', 'Warner Independent Pictures', 'Warner Independent', 'WB'], 'Warner Bros. Pictures')\n",
    "merged_data['Production'] = merged_data['Production'].replace(['Paramount Classics'], 'Paramount Pictures')\n",
    "merged_data['Production'] = merged_data['Production'].replace(['Universal Pictures Distributio'], 'Universal Pictures')\n",
    "merged_data['Production'] = merged_data['Production'].replace(['20th Century Fox Distribution'], '20th Century Fox')\n",
    "merged_data['Production'] = merged_data['Production'].replace(['Fox Searchlight'], 'Fox Searchlight Pictures')\n",
    "merged_data['Production'] = merged_data['Production'].replace(['Buena Vista'], 'Buena Vista Pictures')\n",
    "merged_data['Production'] = merged_data['Production'].replace(['Sony Pictures Classics', 'Sony Pictures Entertainment', 'Sony Pictures Releasing', 'Sony Screen Gems', 'Sony Picutres Classic', 'Screen Gems'], 'Sony Pictures')\n",
    "merged_data['Production'] = merged_data['Production'].replace(['Dreamworks Distribution LLC'], 'DreamWorks SKG')\n",
    "merged_data['Production'] = merged_data['Production'].replace(['MGM/UA', 'Metro-Goldwyn-Mayer (MGM)','Metro-Goldwyn-Mayer', 'MGM Distribution Company'], 'MGM')\n",
    "merged_data['Production'] = merged_data['Production'].replace(['Walt Disney Pictures [us]'], 'Walt Disney Pictures')\n",
    "merged_data['Production'] = merged_data['Production'].replace(['Lions Gate Films Inc.', 'Lions Gate Releasing', 'Lions Gate Distribution', \"Lion's Gate Films\"], 'Lions Gate Films')\n",
    "merged_data['Production'] = merged_data['Production'].replace(['USA Films', 'Zeitgeist Films', 'Samuel Goldwyn Films', 'Fine Line Features', 'Newmarket Film Group', 'Net Effect Media', 'Film Foundry Releasing', 'New Yorker Films', 'Castle Rock Entertainment', 'Exhibition On Screen', 'Manhattan Pictures International', 'Fireworks Pictures',\n",
    "                                                              'Palm Pictures', 'MTV Films', 'Samuel Goldwyn Company', 'Arenas Entertainment', 'United Artists'], 'Other')\n",
    "merged_data['Production'].value_counts()"
   ]
  },
  {
   "cell_type": "code",
   "execution_count": 245,
   "metadata": {
    "collapsed": false
   },
   "outputs": [],
   "source": [
    "import tmdbsimple as tmdb\n",
    "tmdb.API_KEY = 'cfa7214b7cb9a554bd0330fe6df80ccb'\n",
    "movieid = merged_data['imdbID']\n",
    "na_revenue_ind = []\n",
    "na_budget_ind = []\n",
    "mov_revenue = []\n",
    "mov_budget = []\n",
    "mov_sequel = []\n",
    "mov_pop = []\n",
    "for i in range(len(movieid)):\n",
    "    response = tmdb.Movies(movieid[i]).info()\n",
    "    if (response['revenue'] == 0):\n",
    "        na_revenue_ind.append(i)\n",
    "    if (response['budget'] == 0):\n",
    "        na_budget_ind.append(i)\n",
    "    mov_revenue.append(response['revenue'])\n",
    "    mov_budget.append(response['budget'])\n",
    "    mov_pop.append(response['popularity'])\n",
    "    if (response['belongs_to_collection'] is None):\n",
    "        mov_sequel.append(0)\n",
    "    else:\n",
    "        mov_sequel.append(1)\n",
    "    time.sleep(0.20) # to avoid the HTTPError: HTTP Error 429:"
   ]
  },
  {
   "cell_type": "code",
   "execution_count": 246,
   "metadata": {
    "collapsed": false,
    "scrolled": true
   },
   "outputs": [],
   "source": [
    "mov_dropind = (list(set(na_budget_ind) | set(na_revenue_ind)))\n",
    "temp_df = pd.DataFrame({\n",
    "    'mov_revenue': mov_revenue,\n",
    "    'mov_budget': mov_budget,\n",
    "    'mov_sequel': mov_sequel,\n",
    "    'mov_pop': mov_pop\n",
    "})\n",
    "temp_df['mov_success'] = np.where(temp_df['mov_revenue'].subtract(temp_df['mov_budget']) > 0, 1, 0)\n",
    "features_df = pd.concat([merged_data, temp_df], axis=1)\n",
    "features_df = features_df.drop(mov_dropind)\n",
    "features_df = features_df.reset_index(drop=True)"
   ]
  },
  {
   "cell_type": "markdown",
   "metadata": {},
   "source": [
    "The Award values were then cleaned by changing the value NaN (movie without any nomination or award) into 0, and otherwise into 1. <br>\n",
    "There were also some movies with missing budget or revenue values. I dropped those movies out of our data pool in the features analysis. The result data pool had 178 movies, in which 136 of them were successes (76.4%), and 42 of the were flops (23.6%). The data pool was much smaller than I expected. But due to time limitation, I could not achieve more data from the APIs. <br>\n",
    "The dataframe that would be used for model training and feature extraction had the format as shown below. The data were split up into a training set (80% of the data) and a testing set (the remaning 20%)."
   ]
  },
  {
   "cell_type": "code",
   "execution_count": 247,
   "metadata": {
    "collapsed": false
   },
   "outputs": [],
   "source": [
    "# Award values cleaning, 0 if there was no award or nominations, 1 if otherwise)\n",
    "features_df['Awards'] = np.where(pd.isnull(features_df['Awards']), 0, 1)\n"
   ]
  },
  {
   "cell_type": "code",
   "execution_count": 248,
   "metadata": {
    "collapsed": false
   },
   "outputs": [
    {
     "data": {
      "text/html": [
       "<div>\n",
       "<table border=\"1\" class=\"dataframe\">\n",
       "  <thead>\n",
       "    <tr style=\"text-align: right;\">\n",
       "      <th></th>\n",
       "      <th>critics_pick</th>\n",
       "      <th>Metascore</th>\n",
       "      <th>mov_sequel</th>\n",
       "      <th>Awards</th>\n",
       "      <th>Production</th>\n",
       "      <th>mov_budget</th>\n",
       "      <th>mov_pop</th>\n",
       "    </tr>\n",
       "  </thead>\n",
       "  <tbody>\n",
       "    <tr>\n",
       "      <th>0</th>\n",
       "      <td>0</td>\n",
       "      <td>37</td>\n",
       "      <td>0</td>\n",
       "      <td>0</td>\n",
       "      <td>Paramount Pictures</td>\n",
       "      <td>27000000</td>\n",
       "      <td>5.075</td>\n",
       "    </tr>\n",
       "    <tr>\n",
       "      <th>1</th>\n",
       "      <td>0</td>\n",
       "      <td>30</td>\n",
       "      <td>1</td>\n",
       "      <td>1</td>\n",
       "      <td>Warner Bros. Pictures</td>\n",
       "      <td>80000000</td>\n",
       "      <td>5.795</td>\n",
       "    </tr>\n",
       "    <tr>\n",
       "      <th>2</th>\n",
       "      <td>0</td>\n",
       "      <td>29</td>\n",
       "      <td>1</td>\n",
       "      <td>0</td>\n",
       "      <td>Paramount Pictures</td>\n",
       "      <td>19000000</td>\n",
       "      <td>5.543</td>\n",
       "    </tr>\n",
       "  </tbody>\n",
       "</table>\n",
       "</div>"
      ],
      "text/plain": [
       "   critics_pick  Metascore  mov_sequel  Awards             Production  \\\n",
       "0             0         37           0       0     Paramount Pictures   \n",
       "1             0         30           1       1  Warner Bros. Pictures   \n",
       "2             0         29           1       0     Paramount Pictures   \n",
       "\n",
       "   mov_budget  mov_pop  \n",
       "0    27000000    5.075  \n",
       "1    80000000    5.795  \n",
       "2    19000000    5.543  "
      ]
     },
     "execution_count": 248,
     "metadata": {},
     "output_type": "execute_result"
    }
   ],
   "source": [
    "reduced_df = pd.concat([features_df['critics_pick'], features_df['Metascore'], features_df['mov_sequel'], features_df['Awards'],\n",
    "                          features_df['Production'], features_df['mov_budget'], features_df['mov_pop']], axis = 1)\n",
    "reduced_df.head(3)\n"
   ]
  },
  {
   "cell_type": "markdown",
   "metadata": {},
   "source": [
    "### Features Extraction\n",
    "For the features extraction, I decided to use a Tree Classifier, extremely randomized trees (Extra Trees), to fit the data because of its nature of determining the most decisive features to split the trees. Moreover, I thought tree classifier would have high advantage in my situation, because there were 7 different features to consider, but maybe only a few of them were actually important. <br>\n",
    "Since the Production feature is categorical, I applied one-hot-encoding the the dataframe to encode the feature into multiple binary features, so that it could work in the tree classifier."
   ]
  },
  {
   "cell_type": "code",
   "execution_count": 249,
   "metadata": {
    "collapsed": false
   },
   "outputs": [
    {
     "name": "stderr",
     "output_type": "stream",
     "text": [
      "C:\\Users\\Duc\\Anaconda3\\lib\\site-packages\\sklearn\\ensemble\\forest.py:248: FutureWarning: The default value of n_estimators will change from 10 in version 0.20 to 100 in 0.22.\n",
      "  \"10 in version 0.20 to 100 in 0.22.\", FutureWarning)\n"
     ]
    },
    {
     "data": {
      "text/plain": [
       "ExtraTreesClassifier(bootstrap=False, class_weight=None, criterion='gini',\n",
       "           max_depth=None, max_features='auto', max_leaf_nodes=None,\n",
       "           min_impurity_decrease=0.0, min_impurity_split=None,\n",
       "           min_samples_leaf=1, min_samples_split=2,\n",
       "           min_weight_fraction_leaf=0.0, n_estimators=10, n_jobs=None,\n",
       "           oob_score=False, random_state=None, verbose=0, warm_start=False)"
      ]
     },
     "execution_count": 249,
     "metadata": {},
     "output_type": "execute_result"
    }
   ],
   "source": [
    "from sklearn.model_selection import train_test_split\n",
    "from sklearn.ensemble import ExtraTreesClassifier\n",
    "reduced_df = pd.get_dummies(reduced_df, drop_first=0)\n",
    "xtrain, xtest, ytrain, ytest = train_test_split(reduced_df, features_df['mov_success'], test_size = 0.2, random_state = 11)\n",
    "model = ExtraTreesClassifier()\n",
    "model.fit(xtrain, ytrain)"
   ]
  },
  {
   "cell_type": "code",
   "execution_count": 250,
   "metadata": {
    "collapsed": false,
    "scrolled": false
   },
   "outputs": [
    {
     "name": "stdout",
     "output_type": "stream",
     "text": [
      "Model Accuracy:  0.805555555556\n",
      "Features score array: \n",
      "[ 0.02966865  0.22146755  0.07704607  0.06183058  0.15301168  0.16913253\n",
      "  0.02405928  0.00817591  0.00752681  0.00520083  0.00495432  0.00146488\n",
      "  0.01591894  0.          0.03862768  0.01474221  0.01817263  0.01907037\n",
      "  0.00904438  0.02468787  0.02763257  0.00045984  0.02035836  0.01168277\n",
      "  0.03606329]\n"
     ]
    }
   ],
   "source": [
    "print(\"Model Accuracy: \", model.score(xtest, ytest))\n",
    "print(\"Features score array: \")\n",
    "print(model.feature_importances_)"
   ]
  },
  {
   "cell_type": "markdown",
   "metadata": {},
   "source": [
    "### Conclusion\n",
    "After fitting the training data to the Extremely Randomized Trees classifier, I achieved a model with the accuracy of 80.6%. The accuracy in my opinion was acceptable, especially in this situation when I did not have a big data pool, and the classes distribution was skewed toward the success. <br>\n",
    "The model also returned a list of importance score for each feature. Through the score list, the most 3 features that highly affected the success outcome of a movie were Metascore (0.221), movie's population score (0.169) and movie's budget (0.153). This totally made sense, because for a movie, if it has high rating (metascore) and interaction score (popularity) from viewers, it will be more likely to have high profit too. And if a movie has high budget, it would tend to have more magnificient scenes with famous actors/actresses starring in it, which would actract more viewers. <br>\n",
    "The fourth highest score was movie's sequel (0.0770). Yet, because it was much lower than the 3rd highest score, I would not consider movie's sequel to be a determinant of the movie's success. The critic picks had very low importance score as well (0.0297), which matched with the result we got from the first question. The production company also was not an important factor in determining movie's success."
   ]
  },
  {
   "cell_type": "markdown",
   "metadata": {},
   "source": [
    "# Discussion\n",
    "\"Can Movie Critics and Metascore Really Predict Box Office Hits?\" <br>\n",
    "The answer is: the metascore is actually reliable in predicting Box Office. Tet, movie critics pick leans more toward to evaluating the movie's \"content\" value, not predicting the potential revenue value of the movies.\n",
    "<BR>\n",
    "In general, through the project I earned thoughtful experiences on data collection, sentiment analysis, and features engineering.\n",
    "<BR>\n",
    "In my opinion, the first question was pretty simple and straight forward. Yet, the result of the analysis did surprise me, since I thought that critics pick would be reliable when trying to predict movies that have high revenue potentials. <br> <br>\n",
    "For the second question, it required me to spend time to read and understand the mechanics of sentiment analysis. After understanding the theory and how to make it work on Python, the process became straight forward. However, when I tried reading through several reviews that I got for the data, I realized that for most parts in the review, the writer just summarized the movie's content. This might significantly affect the accuracy of our automated sentiment polarity analysis, since movie summary might contain unintentional emotions and subjectivity in it. There was nothing I could do about that problem in the review, so I decided to go on and live with it. <br> <br>\n",
    "The third question was actually my favorite. I had to read through several literature review papers about predicting movie success to get hints on where to start with this problem. From what I learned, in order to build a model that effectively predicts movie success, we would have to take a lot of different aspects into consideration, not just the features that I had above. The features could be split up into 3 basic categories: Who, What, and When. The \"Who\" features include the movie casting (actors/actresses), the production team (director, company), etc. that participate in the movie. The \"What\" features include the genres of the movie, also its rating (PG-13, R ...), and its content, etc. And then the \"When\" features include movie release time, the movie market condition at that time, etc. Moreover, we also need to consider the combinations of different features. For example, thinking about a situation that combines \"What\" and \"When\" features together: if a movie is about Christmas, for sure it will make more profit (and make more sense) if we release it around Christmas time, instead of releasing in the Summer. However, due to the complication of the problem, and due to time limitation of this project, I had to skip the mentioned features. <br> <br>\n",
    "It is also important to mention that the movie profit cannot be determined by simply subtracting its budget from its total revenue like I did in the analysis. Because realistically speaking, not a 100% of the revenue would be handed in to the production party. The revenue usually would be split up between different parties, including sponsors, marketing team, theatrical parties, television, etc. based on the contracts they have with each other. I could of course increase the profit success threshold, to make the output class (Success/Flop) become more balanced, which might lead to a better model fitting ability. However, because I did not have that much details about the parties' revenue distribution, I simplified the profit calculation and threshold to make it fair between the movies.\n",
    "<BR>\n",
    "Another obstacle I met while working on this project was data collection. Neither of the APIs that I used had all the data features that I needed. Each API also required different method to collect and treat its data. Moreover, it appeared that different APIs had different values on the same feature, and there were a lot of missing values for all 3 APIs. Therefore, I had to drop a lot of data points to make the data consistent. I wished I had collected more data, but I did not expect to drop that much data, plus the APIs had limitation on the number of requests I could make in a certain time, which really decreased my speed in collecting data.\n",
    "<BR>\n",
    "Overall, I found the project was really practical and beneficial for me. I learned different techniques in analyzing data, from data collection, to cleaning, and then to analysis and interpretation. I did enjoy and had some fun while working on it, especially for the last question.\n",
    "# References\n",
    "Michael T. Lash, Kang Zhao: Early Predictions of Movie Success: the Who, What, and When of Profitability (2016) <br>\n",
    "Neil Terry, John W. Cooley, Miles Zachary: The determinants of foreign box office revenue for English language movies <br>\n",
    "<br>\n",
    "And thanks Stack Overflow, Wikipedia, Kaggle, and especially Prof. Taback for making this project possible.\n"
   ]
  },
  {
   "cell_type": "code",
   "execution_count": 200,
   "metadata": {
    "collapsed": false
   },
   "outputs": [
    {
     "data": {
      "text/html": [
       "<script>\n",
       "code_show=true; \n",
       "function code_toggle() {\n",
       " if (code_show){\n",
       " $('div.input').hide();\n",
       " } else {\n",
       " $('div.input').show();\n",
       " }\n",
       " code_show = !code_show\n",
       "} \n",
       "$( document ).ready(code_toggle);\n",
       "</script>\n",
       "The raw code for this IPython notebook is by default hidden for easier reading.\n",
       "To toggle on/off the raw code, click <a href=\"javascript:code_toggle()\">here</a>."
      ],
      "text/plain": [
       "<IPython.core.display.HTML object>"
      ]
     },
     "execution_count": 200,
     "metadata": {},
     "output_type": "execute_result"
    }
   ],
   "source": [
    "from IPython.display import HTML\n",
    "HTML('''<script>\n",
    "code_show=true; \n",
    "function code_toggle() {\n",
    " if (code_show){\n",
    " $('div.input').hide();\n",
    " } else {\n",
    " $('div.input').show();\n",
    " }\n",
    " code_show = !code_show\n",
    "} \n",
    "$( document ).ready(code_toggle);\n",
    "</script>\n",
    "The raw code for this IPython notebook is by default hidden for easier reading.\n",
    "To toggle on/off the raw code, click <a href=\"javascript:code_toggle()\">here</a>.''')"
   ]
  },
  {
   "cell_type": "code",
   "execution_count": null,
   "metadata": {
    "collapsed": true
   },
   "outputs": [],
   "source": []
  }
 ],
 "metadata": {
  "kernelspec": {
   "display_name": "Python 3",
   "language": "python",
   "name": "python3"
  },
  "language_info": {
   "codemirror_mode": {
    "name": "ipython",
    "version": 3
   },
   "file_extension": ".py",
   "mimetype": "text/x-python",
   "name": "python",
   "nbconvert_exporter": "python",
   "pygments_lexer": "ipython3",
   "version": "3.6.8"
  }
 },
 "nbformat": 4,
 "nbformat_minor": 2
}
